{
 "cells": [
  {
   "cell_type": "code",
   "execution_count": 2,
   "id": "1b54ef85",
   "metadata": {},
   "outputs": [
    {
     "name": "stdout",
     "output_type": "stream",
     "text": [
      "Few benefits as full time employee.\n",
      "Average salary: 148750.0\n"
     ]
    }
   ],
   "source": [
    "class Employee:\n",
    "    \"\"\"\n",
    "    Generic Employee class with name, family, salary and department\n",
    "    \"\"\"\n",
    "\n",
    "    # data member to count the number of Employees\n",
    "    no_of_employees = 0\n",
    "\n",
    "    def __init__(self, name, family_name, salary, department):\n",
    "        self.__name = name\n",
    "        self.__family_name = family_name\n",
    "        self.salary = salary\n",
    "        self.__department = department\n",
    "        Employee.no_of_employees += 1\n",
    "\n",
    "    @staticmethod\n",
    "    def average_salary(employees):\n",
    "        \"\"\"\n",
    "        function to average salary\n",
    "        \"\"\"\n",
    "        sum = 0\n",
    "        for employee in employees:\n",
    "            sum += employee.salary\n",
    "        return sum / Employee.no_of_employees\n",
    "\n",
    "\n",
    "class FulltimeEmployee(Employee):\n",
    "    \"\"\"\n",
    "    Full Time Employee is a sub class of Employee\n",
    "    \"\"\"\n",
    "\n",
    "    def __init__(self, name, family_name, salary, department):\n",
    "        super().__init__(name, family_name, salary, department)\n",
    "\n",
    "    def full_time_benefits(self):\n",
    "        print(\"Few benefits as full time employee.\")\n",
    "\n",
    "\n",
    "def main():\n",
    "    employees = []\n",
    "    fte1 = FulltimeEmployee(\"Employee1\", \"FamilyName1\", 120000, \"Management\")\n",
    "    fte1.full_time_benefits()\n",
    "    employees.append(fte1)\n",
    "    fte2 = FulltimeEmployee(\"Employee2\", \"FamilyName2\", 180000, \"RnD\")\n",
    "    employees.append(fte2)\n",
    "    emp1 = Employee(\"Employee3\", \"FamilyName3\", 160000, \"Marketing\")\n",
    "    employees.append(emp1)\n",
    "    emp2 = Employee(\"Employee4\", \"FamilyName4\", 135000, \"HR\")\n",
    "    employees.append(emp2)\n",
    "    print(\"Average salary:\", FulltimeEmployee.average_salary(employees))\n",
    "\n",
    "\n",
    "if __name__ == \"__main__\":\n",
    "    main()"
   ]
  },
  {
   "cell_type": "code",
   "execution_count": 4,
   "id": "3b991b4a",
   "metadata": {},
   "outputs": [
    {
     "name": "stdout",
     "output_type": "stream",
     "text": [
      "[[ 0.         19.13079804  9.07552786  7.55916553 15.20009297]\n",
      " [14.34958746  6.22806095 13.80848379 10.5895159   0.        ]\n",
      " [ 0.          8.34080178 14.00225284  4.78230927  6.22193229]\n",
      " [ 2.1858963   5.53081414  2.13392825  0.          1.65690443]]\n"
     ]
    }
   ],
   "source": [
    "import numpy as np\n",
    "\n",
    "\n",
    "def replace_maxmium(array, replace_value, axis):\n",
    "    \"\"\" choose from x or y depending on condition: np.where(condition, x, y) \"\"\"\n",
    "    output = np.where(array == np.max(\n",
    "        array, axis=1).reshape(-1, 1), 0 * array, array)\n",
    "    print(output)\n",
    "\n",
    "\n",
    "def main():\n",
    "\n",
    "    # Using NumPy create random vector of size 20 having only float\n",
    "    # in the range 1-20.\n",
    "\n",
    "    # continuous uniform distribution in [0, 1).\n",
    "    # To sample Unif[a, b): (b - a) * random_sample() + a\n",
    "    random20 = np.random.random_sample(20) * 20 + 1\n",
    "\n",
    "    # Reshape the array to 4 by 5\n",
    "    random20_4by5 = random20.reshape((4, 5))\n",
    "\n",
    "    # Replace the max in each row by 0(axis=1)\n",
    "    replace_maxmium(random20_4by5, 0, 1)\n",
    "\n",
    "\n",
    "if __name__ == \"__main__\":\n",
    "    main()"
   ]
  },
  {
   "cell_type": "code",
   "execution_count": null,
   "id": "65f9518d",
   "metadata": {},
   "outputs": [],
   "source": []
  }
 ],
 "metadata": {
  "kernelspec": {
   "display_name": "Python 3 (ipykernel)",
   "language": "python",
   "name": "python3"
  },
  "language_info": {
   "codemirror_mode": {
    "name": "ipython",
    "version": 3
   },
   "file_extension": ".py",
   "mimetype": "text/x-python",
   "name": "python",
   "nbconvert_exporter": "python",
   "pygments_lexer": "ipython3",
   "version": "3.9.13"
  }
 },
 "nbformat": 4,
 "nbformat_minor": 5
}
